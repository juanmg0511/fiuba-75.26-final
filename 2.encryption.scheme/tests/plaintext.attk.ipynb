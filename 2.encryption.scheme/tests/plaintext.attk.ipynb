{
 "cells": [
  {
   "cell_type": "code",
   "execution_count": 1,
   "metadata": {},
   "outputs": [],
   "source": [
    "#FIUBA - 75.26 Simulacion\n",
    "#2C 2019 - Trabajo final\n",
    "#79979 - Gonzalez, Juan Manuel (juanmg0511@gmail.com)\n",
    "\n",
    "#A pseudo-random numbers generator based on a novel 3D chaotic map with an application to color image encryption\n",
    "#https://doi.org/10.1007/s11071-018-4390-z\n",
    "#Resistencia a ataques de plaintext\n",
    "\n",
    "import os\n",
    "import statistics\n",
    "import pandas as pd\n",
    "import numpy as np\n",
    "from math import sqrt\n",
    "from PIL import Image\n",
    "from matplotlib import pyplot as plt\n",
    "from scipy.stats import chisquare"
   ]
  },
  {
   "cell_type": "code",
   "execution_count": 2,
   "metadata": {},
   "outputs": [
    {
     "name": "stdout",
     "output_type": "stream",
     "text": [
      "Opened file \"../images/lena_std_encrypted.tif\", 786572 bytes read.\n",
      "Opened file \"../images/lena_std_309_241_r_encrypted.tif\", 786572 bytes read.\n"
     ]
    }
   ],
   "source": [
    "#Apertura de los archivos de imagen\n",
    "base_path = \"../images/\"\n",
    "filename_1 = \"lena_std_encrypted.tif\"\n",
    "im_1 = Image.open(base_path + filename_1)\n",
    "Io_1 = list(im_1.getdata())\n",
    "n_1 = im_1.width\n",
    "m_1 = im_1.height\n",
    "\n",
    "filename_2 = \"lena_std_309_241_r_encrypted.tif\"\n",
    "im_2 = Image.open(base_path + filename_2)\n",
    "Io_2 = list(im_2.getdata())\n",
    "n_2 = im_2.width\n",
    "m_2 = im_2.height\n",
    "\n",
    "Ir_1 = [] \n",
    "Ig_1 = []\n",
    "Ib_1 = []\n",
    "\n",
    "Ir_1 = [r[0] for r in Io_1]\n",
    "Ig_1 = [g[1] for g in Io_1]\n",
    "Ib_1 = [b[2] for b in Io_1]\n",
    "\n",
    "Ir_2 = [] \n",
    "Ig_2 = []\n",
    "Ib_2 = []\n",
    "\n",
    "Ir_2 = [r[0] for r in Io_2]\n",
    "Ig_2 = [g[1] for g in Io_2]\n",
    "Ib_2 = [b[2] for b in Io_2]\n",
    "\n",
    "print(\"Opened file \\\"\" + base_path + filename_1 + \"\\\", \" + str(os.stat(base_path + filename_1).st_size) + \" bytes read.\")\n",
    "print(\"Opened file \\\"\" + base_path + filename_2 + \"\\\", \" + str(os.stat(base_path + filename_2).st_size) + \" bytes read.\")"
   ]
  },
  {
   "cell_type": "code",
   "execution_count": 3,
   "metadata": {},
   "outputs": [
    {
     "name": "stdout",
     "output_type": "stream",
     "text": [
      "Valor de NPCR, canal R:  0.9961090087890625\n",
      "Valor de NPCR, canal G:  0.99603271484375\n",
      "Valor de NPCR, canal B:  0.9960365295410156\n",
      "Valor de NPCR, promedio: 0.9960594177246094\n"
     ]
    }
   ],
   "source": [
    "#Cálculo de NPCR\n",
    "def calcular_npcr(canal):\n",
    "\n",
    "    if (canal == \"r\"):\n",
    "        I_1 = Ir_1 \n",
    "        I_2 = Ir_2\n",
    "    elif (canal==\"g\"):\n",
    "        I_1 = Ig_1 \n",
    "        I_2 = Ig_2        \n",
    "    elif (canal==\"b\"):\n",
    "        I_1 = Ib_1 \n",
    "        I_2 = Ib_2        \n",
    "    else:\n",
    "        I_1 = Io_1 \n",
    "        I_2 = Io_2\n",
    "    \n",
    "    sum_dij = 0\n",
    "    for i in range(n_1*m_1):\n",
    "        sum_dij = sum_dij + (0 if I_1[i] == I_2[i] else 1)\n",
    "    \n",
    "    NPCR = (sum_dij)/(m_1*n_1)\n",
    "    return NPCR\n",
    "\n",
    "NPCRr = calcular_npcr(\"r\")\n",
    "NPCRg = calcular_npcr(\"g\")\n",
    "NPCRb = calcular_npcr(\"b\")\n",
    "\n",
    "print(\"Valor de NPCR, canal R:  \" + str(NPCRr))\n",
    "print(\"Valor de NPCR, canal G:  \" + str(NPCRg))\n",
    "print(\"Valor de NPCR, canal B:  \" + str(NPCRb))\n",
    "print(\"Valor de NPCR, promedio: \" + str((NPCRr + NPCRg + NPCRb)/3))"
   ]
  },
  {
   "cell_type": "code",
   "execution_count": 4,
   "metadata": {},
   "outputs": [
    {
     "name": "stdout",
     "output_type": "stream",
     "text": [
      "Valor de UACI, canal R:  0.3352683273017248\n",
      "Valor de UACI, canal G:  0.33458978989556026\n",
      "Valor de UACI, canal B:  0.33539421231149386\n",
      "Valor de UACI, promedio: 0.33508410983625964\n"
     ]
    }
   ],
   "source": [
    "#Cálculo de UACI\n",
    "def calcular_uaci(canal):\n",
    "    \n",
    "    co = 1/(m_1*n_1)\n",
    "\n",
    "    if (canal == \"r\"):\n",
    "        I_1 = Ir_1 \n",
    "        I_2 = Ir_2\n",
    "    elif (canal==\"g\"):\n",
    "        I_1 = Ig_1 \n",
    "        I_2 = Ig_2        \n",
    "    elif (canal==\"b\"):\n",
    "        I_1 = Ib_1 \n",
    "        I_2 = Ib_2        \n",
    "    else:\n",
    "        I_1 = Io_1 \n",
    "        I_2 = Io_2\n",
    "    \n",
    "    sum_c1_c2 = 0\n",
    "    for i in range(n_1*m_1):\n",
    "        sum_c1_c2 = sum_c1_c2 + (abs(I_1[i]-I_2[i])/255)\n",
    "    \n",
    "    UACI = co*sum_c1_c2\n",
    "    return UACI\n",
    "\n",
    "UACIr = calcular_uaci(\"r\")\n",
    "UACIg = calcular_uaci(\"g\")\n",
    "UACIb = calcular_uaci(\"b\")\n",
    "\n",
    "print(\"Valor de UACI, canal R:  \" + str(UACIr))\n",
    "print(\"Valor de UACI, canal G:  \" + str(UACIg))\n",
    "print(\"Valor de UACI, canal B:  \" + str(UACIb))\n",
    "print(\"Valor de UACI, promedio: \" + str((UACIr + UACIg + UACIb)/3))"
   ]
  },
  {
   "cell_type": "code",
   "execution_count": null,
   "metadata": {},
   "outputs": [],
   "source": []
  }
 ],
 "metadata": {
  "kernelspec": {
   "display_name": "Python 3",
   "language": "python",
   "name": "python3"
  },
  "language_info": {
   "codemirror_mode": {
    "name": "ipython",
    "version": 3
   },
   "file_extension": ".py",
   "mimetype": "text/x-python",
   "name": "python",
   "nbconvert_exporter": "python",
   "pygments_lexer": "ipython3",
   "version": "3.7.6"
  }
 },
 "nbformat": 4,
 "nbformat_minor": 4
}
