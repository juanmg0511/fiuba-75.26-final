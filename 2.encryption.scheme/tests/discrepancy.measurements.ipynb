{
 "cells": [
  {
   "cell_type": "code",
   "execution_count": 1,
   "metadata": {},
   "outputs": [],
   "source": [
    "#FIUBA - 75.26 Simulacion\n",
    "#2C 2019 - Trabajo final\n",
    "#79979 - Gonzalez, Juan Manuel (juanmg0511@gmail.com)\n",
    "\n",
    "#A pseudo-random numbers generator based on a novel 3D chaotic map with an application to color image encryption\n",
    "#https://doi.org/10.1007/s11071-018-4390-z\n",
    "#Medición de discrepancia\n",
    "\n",
    "from math import log10, sqrt\n",
    "import numpy as np \n",
    "import cv2\n",
    "\n",
    "#https://scikit-image.org/docs/stable/api/skimage.metrics.html#skimage.metrics.mean_squared_error\n",
    "from skimage.metrics import structural_similarity\n",
    "from skimage.metrics import mean_squared_error\n",
    "from skimage.metrics import peak_signal_noise_ratio"
   ]
  },
  {
   "cell_type": "code",
   "execution_count": 2,
   "metadata": {},
   "outputs": [],
   "source": [
    "#Lectura de las imagenes\n",
    "imageOR = cv2.imread(\"../images/lena_std_cr.tif\")\n",
    "imageER = cv2.imread(\"../images/lena_std_encrypted_cr.tif\")\n",
    "imageOG = cv2.imread(\"../images/lena_std_cg.tif\")\n",
    "imageEG = cv2.imread(\"../images/lena_std_encrypted_cg.tif\")\n",
    "imageOB = cv2.imread(\"../images/lena_std_cb.tif\")\n",
    "imageEB = cv2.imread(\"../images/lena_std_encrypted_cb.tif\")"
   ]
  },
  {
   "cell_type": "code",
   "execution_count": 3,
   "metadata": {},
   "outputs": [
    {
     "name": "stdout",
     "output_type": "stream",
     "text": [
      "SSIM R: 0.009723166180747462\n",
      "SSIM G: 0.008653957019738865\n",
      "SSIM B: 0.010263182428234072\n",
      "SSIM Promedio: 0.0095467685429068\n"
     ]
    }
   ],
   "source": [
    "#SSIM\n",
    "#Conversión a grayscale\n",
    "imageORG = cv2.cvtColor(imageOR, cv2.COLOR_BGR2GRAY)\n",
    "imageERG = cv2.cvtColor(imageER, cv2.COLOR_BGR2GRAY)\n",
    "imageOGG = cv2.cvtColor(imageOG, cv2.COLOR_BGR2GRAY)\n",
    "imageEGG = cv2.cvtColor(imageEG, cv2.COLOR_BGR2GRAY)\n",
    "imageOBG = cv2.cvtColor(imageOB, cv2.COLOR_BGR2GRAY)\n",
    "imageEBG = cv2.cvtColor(imageEB, cv2.COLOR_BGR2GRAY)\n",
    "\n",
    "#Calculo del Structural Similarity Index (SSIM)\n",
    "(SSIMR, diffr) = structural_similarity(imageORG, imageERG, full=True)\n",
    "(SSIMG, diffg) = structural_similarity(imageOGG, imageEGG, full=True)\n",
    "(SSIMB, diffb) = structural_similarity(imageOBG, imageEBG, full=True)\n",
    "SSIMA = (SSIMR + SSIMG + SSIMB) / 3\n",
    "\n",
    "#Impresión del resultado\n",
    "#print(\"SSIM: \" + str(SSIM))\n",
    "print(\"SSIM R: \" + str(SSIMR))\n",
    "print(\"SSIM G: \" + str(SSIMG))\n",
    "print(\"SSIM B: \" + str(SSIMB))\n",
    "print(\"SSIM Promedio: \" + str(SSIMA))"
   ]
  },
  {
   "cell_type": "code",
   "execution_count": 4,
   "metadata": {},
   "outputs": [
    {
     "name": "stdout",
     "output_type": "stream",
     "text": [
      "MSE R: 10626.101287841797\n",
      "MSE G: 9033.0322265625\n",
      "MSE B: 7098.438934326172\n",
      "MSE Promedio: 8919.19081624349\n"
     ]
    }
   ],
   "source": [
    "#Calculo del MSE\n",
    "MSER = mean_squared_error(imageOR, imageER)\n",
    "MSEG = mean_squared_error(imageOG, imageEG)\n",
    "MSEB = mean_squared_error(imageOB, imageEB)\n",
    "MSEA = (MSER + MSEG + MSEB) / 3 \n",
    "\n",
    "#Impresión del resultado\n",
    "print(\"MSE R: \" + str(MSER))\n",
    "print(\"MSE G: \" + str(MSEG))\n",
    "print(\"MSE B: \" + str(MSEB))\n",
    "print(\"MSE Promedio: \" + str(MSEA))"
   ]
  },
  {
   "cell_type": "code",
   "execution_count": 5,
   "metadata": {},
   "outputs": [
    {
     "name": "stdout",
     "output_type": "stream",
     "text": [
      "PSNR R: 7.8670640958582325\n",
      "PSNR G: 8.572468012285032\n",
      "PSNR B: 9.619175102826652\n",
      "PSNR Promedio: 8.686235736989973\n"
     ]
    }
   ],
   "source": [
    "#Calculo del PSNR\n",
    "PSNRR = peak_signal_noise_ratio(imageOR, imageER)\n",
    "PSNRG = peak_signal_noise_ratio(imageOG, imageEG)\n",
    "PSNRB = peak_signal_noise_ratio(imageOB, imageEB)\n",
    "PSNRA = (PSNRR + PSNRG + PSNRB) / 3 \n",
    "\n",
    "#Impresión del resultado\n",
    "print(\"PSNR R: \" + str(PSNRR))\n",
    "print(\"PSNR G: \" + str(PSNRG))\n",
    "print(\"PSNR B: \" + str(PSNRB))\n",
    "print(\"PSNR Promedio: \" + str(PSNRA))"
   ]
  },
  {
   "cell_type": "code",
   "execution_count": null,
   "metadata": {},
   "outputs": [],
   "source": []
  }
 ],
 "metadata": {
  "kernelspec": {
   "display_name": "Python 3",
   "language": "python",
   "name": "python3"
  },
  "language_info": {
   "codemirror_mode": {
    "name": "ipython",
    "version": 3
   },
   "file_extension": ".py",
   "mimetype": "text/x-python",
   "name": "python",
   "nbconvert_exporter": "python",
   "pygments_lexer": "ipython3",
   "version": "3.7.6"
  }
 },
 "nbformat": 4,
 "nbformat_minor": 4
}
