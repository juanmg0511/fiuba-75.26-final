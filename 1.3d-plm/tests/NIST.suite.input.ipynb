{
 "cells": [
  {
   "cell_type": "code",
   "execution_count": 15,
   "metadata": {},
   "outputs": [],
   "source": [
    "#FIUBA - 75.26 Simulacion\n",
    "#2C 2019 - Trabajo final\n",
    "#79979 - Gonzalez, Juan Manuel (juanmg0511@gmail.com)\n",
    "\n",
    "#A pseudo-random numbers generator based on a novel 3D chaotic map with an application to color image encryption\n",
    "#https://doi.org/10.1007/s11071-018-4390-z\n",
    "#3D piecewise-logistic map\n",
    "#3D-PLM\n",
    "\n",
    "#NIST Statistical test\n",
    "#Preparación de archivos de entrada\n",
    "#https://csrc.nist.gov/projects/random-bit-generation/documentation-and-software\n",
    "\n",
    "#Importación de librerías\n",
    "import os\n",
    "import numpy\n",
    "import bitstring\n",
    "\n",
    "#Cantidad de numeros a generar\n",
    "sequence_length = 10**6\n",
    "\n",
    "#Definición de paths de salida\n",
    "path_x = \"data.x\" \n",
    "path_y = \"data.y\"\n",
    "path_z = \"data.z\"\n",
    "\n",
    "#Definición de parámetros de control: c1, c2, reales\n",
    "#Como define el paper, c1=c2=20\n",
    "c1 = 20\n",
    "c2 = 20\n",
    "\n",
    "#Implementación de funciones auxiliares\n",
    "#Picewise map\n",
    "def pMap(x):\n",
    "    \"piecewise map: funcion que dado x y un parametro de control real c1, calcula Ψ(x)\"\n",
    "    return (abs(1 - (c1 * x)))\n",
    "\n",
    "#Logistic map\n",
    "def lMap(x, y):\n",
    "    \"2D logistic map: funcion que dados x e y, y un parametro de control real c2, calcula Λ(x, y)\"\n",
    "    return (c2 * x * (1 - y))\n",
    "\n",
    "#Implemantación del 3D piecewise-logistic map (3D-PLM), T\n",
    "def tMap(x, y, z):\n",
    "    \"3D piecewise-logistic map: funcion que dados x, y, z, los paráetros de control reales c1 y c2, calcula T(x, y, z)\"    \n",
    "    x = (pMap(x) + lMap(y, z)) % 1\n",
    "    y = (pMap(y) + lMap(z, x)) % 1\n",
    "    z = (pMap(z) + lMap(x, y)) % 1\n",
    "    \n",
    "    return x, y, z"
   ]
  },
  {
   "cell_type": "code",
   "execution_count": 16,
   "metadata": {},
   "outputs": [],
   "source": [
    "#Generación de las primeras 10^6 coordenadas de la secuencia\n",
    "x0 = 0.411\n",
    "y0 = 0.321\n",
    "z0 = 0.631\n",
    "\n",
    "secuencia = []\n",
    "for i in range(sequence_length):\n",
    "    \n",
    "    if i == 0:\n",
    "        secuencia.append(tMap(x0, y0, z0))\n",
    "    else:\n",
    "        secuencia.append(tMap(secuencia[i-1][0], secuencia[i-1][1], secuencia[i-1][2]))\n",
    "\n",
    "x = [] \n",
    "y = []\n",
    "z = []\n",
    "\n",
    "x = [r[0] for r in secuencia]\n",
    "y = [g[1] for g in secuencia]\n",
    "z = [b[2] for b in secuencia]"
   ]
  },
  {
   "cell_type": "code",
   "execution_count": 17,
   "metadata": {},
   "outputs": [],
   "source": [
    "#Escribimos la salida, que será el input para testear con la suite de NIST\n",
    "#Ambos formatos, binario empaquetado de a bytes y bits en ASCII\n",
    "def write_output_ascii(path):\n",
    "    \n",
    "    with open(path + \".ascii.in\", \"w\") as f:\n",
    "        for item in x:\n",
    "            f.write(\"%s\"% bitstring.BitArray(float=item, length=64).bin)\n",
    "    print(\"Exported ASCII file \\\"\" + path + \".ascii.in\" + \"\\\", \" + str(os.stat(path + \".ascii.in\").st_size) + \" bytes written.\")\n",
    "\n",
    "    return\n",
    "\n",
    "def write_output_binary(path):\n",
    "    \n",
    "    with open(path + \".binary.in\", \"w\") as f:\n",
    "        for item in x:\n",
    "             f.write(\"%f\"% item)\n",
    "    print(\"Exported BINARY file \\\"\" + path + \".binary.in\" + \"\\\", \" + str(os.stat(path + \".binary.in\").st_size) + \" bytes written.\")\n",
    "\n",
    "    return"
   ]
  },
  {
   "cell_type": "code",
   "execution_count": 18,
   "metadata": {},
   "outputs": [
    {
     "name": "stdout",
     "output_type": "stream",
     "text": [
      "Exported BINARY file \"data.x.binary.in\", 8000000 bytes written.\n",
      "Exported BINARY file \"data.y.binary.in\", 8000000 bytes written.\n",
      "Exported BINARY file \"data.z.binary.in\", 8000000 bytes written.\n"
     ]
    }
   ],
   "source": [
    "#write_output_ascii(path_x)\n",
    "#write_output_ascii(path_y)\n",
    "#write_output_ascii(path_z)\n",
    "write_output_binary(path_x)\n",
    "write_output_binary(path_y)\n",
    "write_output_binary(path_z)"
   ]
  },
  {
   "cell_type": "code",
   "execution_count": null,
   "metadata": {},
   "outputs": [],
   "source": []
  }
 ],
 "metadata": {
  "kernelspec": {
   "display_name": "Python 3",
   "language": "python",
   "name": "python3"
  },
  "language_info": {
   "codemirror_mode": {
    "name": "ipython",
    "version": 3
   },
   "file_extension": ".py",
   "mimetype": "text/x-python",
   "name": "python",
   "nbconvert_exporter": "python",
   "pygments_lexer": "ipython3",
   "version": "3.7.6"
  }
 },
 "nbformat": 4,
 "nbformat_minor": 4
}
