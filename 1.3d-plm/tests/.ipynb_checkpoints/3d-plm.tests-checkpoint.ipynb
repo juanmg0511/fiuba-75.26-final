{
 "cells": [
  {
   "cell_type": "code",
   "execution_count": 17,
   "metadata": {},
   "outputs": [],
   "source": [
    "#FIUBA - 75.26 Simulacion\n",
    "#2C 2019 - Trabajo final\n",
    "#79979 - Gonzalez, Juan Manuel (juanmg0511@gmail.com)\n",
    "\n",
    "#A pseudo-random numbers generator based on a novel 3D chaotic map with an application to color image encryption\n",
    "#https://doi.org/10.1007/s11071-018-4390-z\n",
    "#3D piecewise-logistic map\n",
    "#3D-PLM\n",
    "\n",
    "#Importación modulos y librerias\n",
    "import matplotlib.pyplot as plt\n",
    "import math, random, scipy.stats, statistics\n",
    "import numpy as np\n",
    "\n",
    "#Definición de parámetros de control: c1, c2, reales\n",
    "#Como define el paper, c1=c2=20\n",
    "c1 = 20\n",
    "c2 = 20\n",
    "\n",
    "#Implementación de funciones auxiliares\n",
    "#Picewise map\n",
    "def pMap(x):\n",
    "    \"piecewise map: funcion que dado x y un parametro de control real c1, calcula Ψ(x)\"\n",
    "    return (abs(1 - (c1 * x)))\n",
    "\n",
    "#Logistic map\n",
    "def lMap(x, y):\n",
    "    \"2D logistic map: funcion que dados x e y, y un parametro de control real c2, calcula Λ(x, y)\"\n",
    "    return (c2 * x * (1 - y))\n",
    "\n",
    "#Implemantación del 3D piecewise-logistic map (3D-PLM), T\n",
    "def tMap(x, y, z):\n",
    "    \"3D piecewise-logistic map: funcion que dados x, y, z, los paráetros de control reales c1 y c2, calcula T(x, y, z)\"    \n",
    "    x = (pMap(x) + lMap(y, z)) % 1\n",
    "    y = (pMap(y) + lMap(z, x)) % 1\n",
    "    z = (pMap(z) + lMap(x, y)) % 1\n",
    "    \n",
    "    return x, y, z"
   ]
  },
  {
   "cell_type": "code",
   "execution_count": 67,
   "metadata": {},
   "outputs": [],
   "source": [
    "#Funcion que genera una secuencia de numeros en x,y,z\n",
    "def generar_secuencia(x0, y0, z0, nt):\n",
    "\n",
    "    secuencia = []\n",
    "    for i in range(nt):\n",
    "    \n",
    "        if i == 0:\n",
    "            secuencia.append(tMap(x0, y0, z0))\n",
    "        else:\n",
    "            secuencia.append(tMap(secuencia[i-1][0], secuencia[i-1][1], secuencia[i-1][2]))\n",
    "        \n",
    "    Sx = [x[0] for x in secuencia]\n",
    "    Sy = [y[1] for y in secuencia]\n",
    "    Sz = [z[2] for z in secuencia]\n",
    "    \n",
    "    return Sx, Sy, Sz"
   ]
  },
  {
   "cell_type": "code",
   "execution_count": 68,
   "metadata": {},
   "outputs": [],
   "source": [
    "#Generación de las primeras 10^6 coordenadas de la secuencia\n",
    "#x0,y0,z0, las \"claves secretas\", pertenecen al intervalo [0,1]\n",
    "x0 = 0.411\n",
    "y0 = 0.321\n",
    "z0 = 0.631\n",
    "\n",
    "nt = 10**6\n",
    "\n",
    "Sx, Sy, Sz = generar_secuencia(x0, y0, z0, nt)"
   ]
  },
  {
   "cell_type": "code",
   "execution_count": 69,
   "metadata": {},
   "outputs": [
    {
     "data": {
      "image/png": "[encoded data removed]",
      "text/plain": [
       "<Figure size 432x288 with 1 Axes>"
      ]
     },
     "metadata": {
      "needs_background": "light"
     },
     "output_type": "display_data"
    }
   ],
   "source": [
    "#Graficamos los histogramas de x, y, z\n",
    "#X\n",
    "(Nx, Binsx, Patchesx) = plt.hist(Sx,500)\n",
    "plt.title(\"Distribución de la secuencia (x)\")\n",
    "plt.show()"
   ]
  },
  {
   "cell_type": "code",
   "execution_count": 70,
   "metadata": {},
   "outputs": [
    {
     "data": {
      "image/png": "[encoded data removed]",
      "text/plain": [
       "<Figure size 432x288 with 1 Axes>"
      ]
     },
     "metadata": {
      "needs_background": "light"
     },
     "output_type": "display_data"
    }
   ],
   "source": [
    "#Y\n",
    "(Ny, Binsy, Patchesy) = plt.hist(Sy,500)\n",
    "plt.title(\"Distribución de la secuencia (y)\")\n",
    "\n",
    "plt.show()"
   ]
  },
  {
   "cell_type": "code",
   "execution_count": 71,
   "metadata": {},
   "outputs": [
    {
     "data": {
      "image/png": "[encoded data removed]",
      "text/plain": [
       "<Figure size 432x288 with 1 Axes>"
      ]
     },
     "metadata": {
      "needs_background": "light"
     },
     "output_type": "display_data"
    }
   ],
   "source": [
    "#Z\n",
    "(Nz, Binsz, Patchesz) = plt.hist(Sz,500)\n",
    "plt.title(\"Distribución de la secuencia (z)\")\n",
    "\n",
    "plt.show()"
   ]
  },
  {
   "cell_type": "code",
   "execution_count": 72,
   "metadata": {},
   "outputs": [
    {
     "name": "stdout",
     "output_type": "stream",
     "text": [
      "Power_divergenceResult(statistic=530.9259999999999, pvalue=0.15605317992454973)\n",
      "Power_divergenceResult(statistic=501.3399999999999, pvalue=0.4621364821672876)\n",
      "Power_divergenceResult(statistic=509.827, pvalue=0.35892190538483393)\n"
     ]
    }
   ],
   "source": [
    "#The Null hypothesis used here assumes that the numbers follow the normal distribution.\n",
    "#If the p-value is < alpha, we reject the Null hypothesis.\n",
    "\n",
    "#Test Chi^2\n",
    "print(scipy.stats.chisquare(Nx, ddof=0, axis=0))\n",
    "print(scipy.stats.chisquare(Ny, ddof=0, axis=0))\n",
    "print(scipy.stats.chisquare(Nz, ddof=0, axis=0))"
   ]
  },
  {
   "cell_type": "code",
   "execution_count": 73,
   "metadata": {},
   "outputs": [
    {
     "name": "stdout",
     "output_type": "stream",
     "text": [
      "KstestResult(statistic=0.0007719992589236835, pvalue=0.590294481508213)\n",
      "KstestResult(statistic=0.0013428971082109498, pvalue=0.054278987526916976)\n",
      "KstestResult(statistic=0.0007777986135670822, pvalue=0.5806490104245855)\n"
     ]
    }
   ],
   "source": [
    "#Test de Kolmogorov-Smirnov\n",
    "print(scipy.stats.kstest(Sx, 'uniform', args=(0, 1)))\n",
    "print(scipy.stats.kstest(Sy, 'uniform', args=(0, 1)))\n",
    "print(scipy.stats.kstest(Sz, 'uniform', args=(0, 1)))"
   ]
  },
  {
   "cell_type": "code",
   "execution_count": 75,
   "metadata": {},
   "outputs": [
    {
     "name": "stdout",
     "output_type": "stream",
     "text": [
      "Zx: 1.5380007690013457\n",
      "Zy: 0.5460002730004778\n",
      "Zz: 1.2620006310011043\n"
     ]
    }
   ],
   "source": [
    "#Test runs\n",
    "#Z-statistic vs Z-critical \n",
    "#Z-critical = 1.96 for confidence level of 95% \n",
    "#The null hypothesis is rejected i.e. the numbers are declared not to be random, if |Z|>Z-critical \n",
    "def runsTest(l, l_median): \n",
    "  \n",
    "    runs, n1, n2 = 0, 0, 0\n",
    "    for i in range(len(l)): \n",
    "          \n",
    "        if (l[i] >= l_median and l[i-1] < l_median) or (l[i] < l_median and l[i-1] >= l_median): \n",
    "            runs += 1  \n",
    "          \n",
    "        if(l[i]) >= l_median: \n",
    "            n1 += 1             \n",
    "        else: \n",
    "            n2 += 1   \n",
    "  \n",
    "    runs_exp = ((2*n1*n2)/(n1+n2))+1\n",
    "    stan_dev = math.sqrt((2*n1*n2*(2*n1*n2-n1-n2))/(((n1+n2)**2)*(n1+n2-1))) \n",
    "  \n",
    "    z = (runs-runs_exp)/stan_dev \n",
    "  \n",
    "    return z \n",
    "          \n",
    "Sx_m = statistics.median(Sx) \n",
    "Sy_m = statistics.median(Sy) \n",
    "Sz_m = statistics.median(Sz) \n",
    "\n",
    "Zx = abs(runsTest(Sx, Sx_m)) \n",
    "Zy = abs(runsTest(Sy, Sy_m)) \n",
    "Zz = abs(runsTest(Sz, Sz_m)) \n",
    "\n",
    "print(\"Zx: \" + str(Zx))\n",
    "print(\"Zy: \" + str(Zy))\n",
    "print(\"Zz: \" + str(Zz))"
   ]
  },
  {
   "cell_type": "code",
   "execution_count": 85,
   "metadata": {},
   "outputs": [
    {
     "name": "stdout",
     "output_type": "stream",
     "text": [
      "D^2: 0.0001383905272274718 p: 1.0\n",
      "D^2: 0.00014007759239740411 p: 1.0\n",
      "D^2: 0.00012236727910318676 p: 1.0\n"
     ]
    }
   ],
   "source": [
    "# Test Gap\n",
    "def gap_test(muestra, alfa, beta):\n",
    "\n",
    "    #calculo las probabilidades, corto cuando ya no distingo diferencia\n",
    "    esperados = [beta - alfa]\n",
    "    termino = False\n",
    "    i = 1\n",
    "    while not termino:\n",
    "        nuevaProb = esperados[0] * ((1 - esperados[0]) ** i)\n",
    "\n",
    "        if nuevaProb == esperados[i - 1]:\n",
    "            termino = True\n",
    "        else:\n",
    "            esperados.append(nuevaProb)\n",
    "            i += 1\n",
    "\n",
    "    # calculo cantidad de veces que cai 0 afuera, 1 afuera, 2 afuera...\n",
    "    primero = True\n",
    "    contador_veces_cae_afuera = 0\n",
    "    veces_cae_afuera = {}\n",
    "    for x in muestra:\n",
    "        if (x >= alfa and x <= beta) and primero:\n",
    "            primero = False\n",
    "        if (x >= alfa and x <= beta) and not primero:\n",
    "            veces = veces_cae_afuera.get(contador_veces_cae_afuera, 0)\n",
    "            veces_cae_afuera[contador_veces_cae_afuera] = veces + 1\n",
    "            contador_veces_cae_afuera = 0\n",
    "        if (x < alfa or x > beta) and not primero:\n",
    "            contador_veces_cae_afuera += 1\n",
    "\n",
    "    # ajusto para que sean frecuencias\n",
    "    total = sum(veces_cae_afuera.values())\n",
    "    for k in veces_cae_afuera.keys():\n",
    "        veces_cae_afuera[k] /= total\n",
    "\n",
    "    # lo paso a lista y relleno con 0 donde no tuve apariciones\n",
    "    observados = []\n",
    "    for i in range(len(esperados)):\n",
    "        observados.append(veces_cae_afuera.get(i, 0))\n",
    "\n",
    "    dsquared, p = scipy.stats.chisquare(observados, esperados)\n",
    "\n",
    "    return dsquared, p\n",
    "\n",
    "\n",
    "#Ejecutamos el test\n",
    "alfa = 0.3\n",
    "beta = 0.6\n",
    "\n",
    "dsquaredx, px = gap_test(Sx, alfa, beta)\n",
    "dsquaredy, py = gap_test(Sy, alfa, beta)\n",
    "dsquaredz, pz = gap_test(Sz, alfa, beta)\n",
    "\n",
    "print(\"D^2: \" + str(dsquaredx) + \" p: \" + str(px))\n",
    "print(\"D^2: \" + str(dsquaredy) + \" p: \" + str(py))\n",
    "print(\"D^2: \" + str(dsquaredz) + \" p: \" + str(pz))"
   ]
  },
  {
   "cell_type": "code",
   "execution_count": 86,
   "metadata": {},
   "outputs": [
    {
     "name": "stdout",
     "output_type": "stream",
     "text": [
      "*******--- SECUENCIA: 0 ---*******\n",
      "Power_divergenceResult(statistic=528.213, pvalue=0.1766332061002271)\n",
      "Power_divergenceResult(statistic=487.49, pvalue=0.6353423505800735)\n",
      "Power_divergenceResult(statistic=463.38200000000006, pvalue=0.8716522334223199)\n",
      "KstestResult(statistic=0.0012126385802733175, pvalue=0.10561183971015715)\n",
      "KstestResult(statistic=0.0009402467535948311, pvalue=0.3396083754650985)\n",
      "KstestResult(statistic=0.0007764081998149486, pvalue=0.582957990626034)\n",
      "Rx: 0.6620003310005793\n",
      "Rx: 0.5180002590004533\n",
      "Rx: 0.7580003790006633\n"
     ]
    },
    {
     "ename": "KeyboardInterrupt",
     "evalue": "",
     "output_type": "error",
     "traceback": [
      "\u001b[0;31m---------------------------------------------------------------------------\u001b[0m",
      "\u001b[0;31mKeyboardInterrupt\u001b[0m                         Traceback (most recent call last)",
      "\u001b[0;32m<ipython-input-86-453507598011>\u001b[0m in \u001b[0;36m<module>\u001b[0;34m\u001b[0m\n\u001b[1;32m     46\u001b[0m     \u001b[0mdsquaredx\u001b[0m\u001b[0;34m,\u001b[0m \u001b[0mpx\u001b[0m \u001b[0;34m=\u001b[0m \u001b[0mgap_test\u001b[0m\u001b[0;34m(\u001b[0m\u001b[0mSx\u001b[0m\u001b[0;34m,\u001b[0m \u001b[0malfa\u001b[0m\u001b[0;34m,\u001b[0m \u001b[0mbeta\u001b[0m\u001b[0;34m)\u001b[0m\u001b[0;34m\u001b[0m\u001b[0;34m\u001b[0m\u001b[0m\n\u001b[1;32m     47\u001b[0m     \u001b[0mdsquaredy\u001b[0m\u001b[0;34m,\u001b[0m \u001b[0mpy\u001b[0m \u001b[0;34m=\u001b[0m \u001b[0mgap_test\u001b[0m\u001b[0;34m(\u001b[0m\u001b[0mSy\u001b[0m\u001b[0;34m,\u001b[0m \u001b[0malfa\u001b[0m\u001b[0;34m,\u001b[0m \u001b[0mbeta\u001b[0m\u001b[0;34m)\u001b[0m\u001b[0;34m\u001b[0m\u001b[0;34m\u001b[0m\u001b[0m\n\u001b[0;32m---> 48\u001b[0;31m     \u001b[0mdsquaredz\u001b[0m\u001b[0;34m,\u001b[0m \u001b[0mpz\u001b[0m \u001b[0;34m=\u001b[0m \u001b[0mgap_test\u001b[0m\u001b[0;34m(\u001b[0m\u001b[0mSz\u001b[0m\u001b[0;34m,\u001b[0m \u001b[0malfa\u001b[0m\u001b[0;34m,\u001b[0m \u001b[0mbeta\u001b[0m\u001b[0;34m)\u001b[0m\u001b[0;34m\u001b[0m\u001b[0;34m\u001b[0m\u001b[0m\n\u001b[0m\u001b[1;32m     49\u001b[0m \u001b[0;34m\u001b[0m\u001b[0m\n\u001b[1;32m     50\u001b[0m     \u001b[0mprint\u001b[0m\u001b[0;34m(\u001b[0m\u001b[0;34m\"D^2: \"\u001b[0m \u001b[0;34m+\u001b[0m \u001b[0mstr\u001b[0m\u001b[0;34m(\u001b[0m\u001b[0mdsquaredx\u001b[0m\u001b[0;34m)\u001b[0m \u001b[0;34m+\u001b[0m \u001b[0;34m\" p: \"\u001b[0m \u001b[0;34m+\u001b[0m \u001b[0mstr\u001b[0m\u001b[0;34m(\u001b[0m\u001b[0mpx\u001b[0m\u001b[0;34m)\u001b[0m\u001b[0;34m)\u001b[0m\u001b[0;34m\u001b[0m\u001b[0;34m\u001b[0m\u001b[0m\n",
      "\u001b[0;32m<ipython-input-85-f499044a0848>\u001b[0m in \u001b[0;36mgap_test\u001b[0;34m(muestra, alfa, beta)\u001b[0m\n\u001b[1;32m     26\u001b[0m             \u001b[0mveces_cae_afuera\u001b[0m\u001b[0;34m[\u001b[0m\u001b[0mcontador_veces_cae_afuera\u001b[0m\u001b[0;34m]\u001b[0m \u001b[0;34m=\u001b[0m \u001b[0mveces\u001b[0m \u001b[0;34m+\u001b[0m \u001b[0;36m1\u001b[0m\u001b[0;34m\u001b[0m\u001b[0;34m\u001b[0m\u001b[0m\n\u001b[1;32m     27\u001b[0m             \u001b[0mcontador_veces_cae_afuera\u001b[0m \u001b[0;34m=\u001b[0m \u001b[0;36m0\u001b[0m\u001b[0;34m\u001b[0m\u001b[0;34m\u001b[0m\u001b[0m\n\u001b[0;32m---> 28\u001b[0;31m         \u001b[0;32mif\u001b[0m \u001b[0;34m(\u001b[0m\u001b[0mx\u001b[0m \u001b[0;34m<\u001b[0m \u001b[0malfa\u001b[0m \u001b[0;32mor\u001b[0m \u001b[0mx\u001b[0m \u001b[0;34m>\u001b[0m \u001b[0mbeta\u001b[0m\u001b[0;34m)\u001b[0m \u001b[0;32mand\u001b[0m \u001b[0;32mnot\u001b[0m \u001b[0mprimero\u001b[0m\u001b[0;34m:\u001b[0m\u001b[0;34m\u001b[0m\u001b[0;34m\u001b[0m\u001b[0m\n\u001b[0m\u001b[1;32m     29\u001b[0m             \u001b[0mcontador_veces_cae_afuera\u001b[0m \u001b[0;34m+=\u001b[0m \u001b[0;36m1\u001b[0m\u001b[0;34m\u001b[0m\u001b[0;34m\u001b[0m\u001b[0m\n\u001b[1;32m     30\u001b[0m \u001b[0;34m\u001b[0m\u001b[0m\n",
      "\u001b[0;31mKeyboardInterrupt\u001b[0m: "
     ]
    }
   ],
   "source": [
    "#Cantidad de repeticiones de cada test\n",
    "rt = 10**2\n",
    "#Longitud de las series a generar\n",
    "nt = 10**6\n",
    "#Alfa y beta para el gap test\n",
    "alfa = 0.3\n",
    "beta = 0.6\n",
    "#Semilla para random de NumPy\n",
    "np.random.seed(79979)\n",
    "\n",
    "chi2 = []\n",
    "ks   = []\n",
    "runs = []\n",
    "gap  = []\n",
    "\n",
    "for i in range(rt):\n",
    "    \n",
    "    print(\"*******--- SECUENCIA: \" + str(i) + \" ---*******\")\n",
    "    \n",
    "    x0, y0, z0 = np.random.random(3)\n",
    "    Sx, Sy, Sz = generar_secuencia(x0, y0, z0, nt)\n",
    "    (Nx, Binsx) = np.histogram(Sx, 500)\n",
    "    (Ny, Binsy) = np.histogram(Sy, 500)\n",
    "    (Nz, Binsz) = np.histogram(Sz, 500)\n",
    "    \n",
    "    Sx_m = statistics.median(Sx) \n",
    "    Sy_m = statistics.median(Sy) \n",
    "    Sz_m = statistics.median(Sz) \n",
    "    \n",
    "    print(scipy.stats.chisquare(Nx, ddof=0, axis=0))\n",
    "    print(scipy.stats.chisquare(Ny, ddof=0, axis=0))\n",
    "    print(scipy.stats.chisquare(Nz, ddof=0, axis=0))\n",
    "    \n",
    "    print(scipy.stats.kstest(Sx, 'uniform', args=(0, 1)))\n",
    "    print(scipy.stats.kstest(Sy, 'uniform', args=(0, 1)))\n",
    "    print(scipy.stats.kstest(Sz, 'uniform', args=(0, 1)))\n",
    "    \n",
    "    Zx = abs(runsTest(Sx, Sx_m)) \n",
    "    Zy = abs(runsTest(Sy, Sy_m)) \n",
    "    Zz = abs(runsTest(Sz, Sz_m)) \n",
    "    \n",
    "    print(\"Rx: \" + str(Zx))\n",
    "    print(\"Ry: \" + str(Zy))\n",
    "    print(\"Rz: \" + str(Zz))\n",
    "    \n",
    "    dsquaredx, px = gap_test(Sx, alfa, beta)\n",
    "    dsquaredy, py = gap_test(Sy, alfa, beta)\n",
    "    dsquaredz, pz = gap_test(Sz, alfa, beta)\n",
    "    \n",
    "    print(\"D^2: \" + str(dsquaredx) + \" p: \" + str(px))\n",
    "    print(\"D^2: \" + str(dsquaredy) + \" p: \" + str(py))\n",
    "    print(\"D^2: \" + str(dsquaredz) + \" p: \" + str(pz))\n",
    "    "
   ]
  },
  {
   "cell_type": "code",
   "execution_count": null,
   "metadata": {},
   "outputs": [],
   "source": []
  }
 ],
 "metadata": {
  "kernelspec": {
   "display_name": "Python 3",
   "language": "python",
   "name": "python3"
  },
  "language_info": {
   "codemirror_mode": {
    "name": "ipython",
    "version": 3
   },
   "file_extension": ".py",
   "mimetype": "text/x-python",
   "name": "python",
   "nbconvert_exporter": "python",
   "pygments_lexer": "ipython3",
   "version": "3.7.6"
  }
 },
 "nbformat": 4,
 "nbformat_minor": 4
}
