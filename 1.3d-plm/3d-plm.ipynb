{
 "cells": [
  {
   "cell_type": "code",
   "execution_count": 1,
   "metadata": {},
   "outputs": [],
   "source": [
    "#FIUBA - 75.26 Simulacion\n",
    "#2C 2019 - Trabajo final\n",
    "#79979 - Gonzalez, Juan Manuel (juanmg0511@gmail.com)\n",
    "\n",
    "#A pseudo-random numbers generator based on a novel 3D chaotic map with an application to color image encryption\n",
    "#https://doi.org/10.1007/s11071-018-4390-z\n",
    "#3D piecewise-logistic map\n",
    "#3D-PLM\n",
    "\n",
    "#Definición de parámetros de control: c1, c2, reales\n",
    "#Como define el paper, c1=c2=20\n",
    "c1 = 20\n",
    "c2 = 20\n",
    "\n",
    "#Implementación de funciones auxiliares\n",
    "#Picewise map\n",
    "def pMap(x):\n",
    "    \"piecewise map: funcion que dado x y un parametro de control real c1, calcula Ψ(x)\"\n",
    "    return (abs(1 - (c1 * x)))\n",
    "\n",
    "#Logistic map\n",
    "def lMap(x, y):\n",
    "    \"2D logistic map: funcion que dados x e y, y un parametro de control real c2, calcula Λ(x, y)\"\n",
    "    return (c2 * x * (1 - y))\n",
    "\n",
    "#Implemantación del 3D piecewise-logistic map (3D-PLM), T\n",
    "def tMap(x, y, z):\n",
    "    \"3D piecewise-logistic map: funcion que dados x, y, z, los paráetros de control reales c1 y c2, calcula T(x, y, z)\"    \n",
    "    x = (pMap(x) + lMap(y, z)) % 1\n",
    "    y = (pMap(y) + lMap(z, x)) % 1\n",
    "    z = (pMap(z) + lMap(x, y)) % 1\n",
    "    \n",
    "    return x, y, z"
   ]
  },
  {
   "cell_type": "code",
   "execution_count": 2,
   "metadata": {},
   "outputs": [
    {
     "name": "stdout",
     "output_type": "stream",
     "text": [
      "[(0.5889799999999994, 0.607072400000007, 0.24852995695991353), (0.9035344511290617, 0.6209395741803139, 0.8204822149530422), (0.30008296267825685, 0.9041811049085737, 0.9847166574526902), (0.27803744458759283, 0.30219318560563835, 0.5746616188541438), (0.13143609892808605, 0.026470461477895668, 0.0523708717749809)]\n"
     ]
    }
   ],
   "source": [
    "#Generación de las primeras 5 coordenadas de la secuencia\n",
    "#x0,y0,z0, las \"claves secretas\", pertenecen al intervalo [0,1]\n",
    "#Valores tomados de la Fig. 5 del paper\n",
    "x0 = 0.411\n",
    "y0 = 0.321\n",
    "z0 = 0.631\n",
    "\n",
    "secuencia = []\n",
    "for i in range(5):\n",
    "    \n",
    "    if i == 0:\n",
    "        secuencia.append(tMap(x0, y0, z0))\n",
    "    else:\n",
    "        secuencia.append(tMap(secuencia[i-1][0], secuencia[i-1][1], secuencia[i-1][2]))\n",
    "\n",
    "print (secuencia)"
   ]
  },
  {
   "cell_type": "code",
   "execution_count": null,
   "metadata": {},
   "outputs": [],
   "source": []
  }
 ],
 "metadata": {
  "kernelspec": {
   "display_name": "Python 3",
   "language": "python",
   "name": "python3"
  },
  "language_info": {
   "codemirror_mode": {
    "name": "ipython",
    "version": 3
   },
   "file_extension": ".py",
   "mimetype": "text/x-python",
   "name": "python",
   "nbconvert_exporter": "python",
   "pygments_lexer": "ipython3",
   "version": "3.7.6"
  }
 },
 "nbformat": 4,
 "nbformat_minor": 4
}
